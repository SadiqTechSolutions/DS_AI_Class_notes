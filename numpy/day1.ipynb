{
 "cells": [
  {
   "cell_type": "code",
   "execution_count": 1,
   "id": "18f5bdae",
   "metadata": {},
   "outputs": [
    {
     "name": "stdout",
     "output_type": "stream",
     "text": [
      "Hello world\n"
     ]
    }
   ],
   "source": [
    "print(\"Hello world\")"
   ]
  },
  {
   "cell_type": "code",
   "execution_count": 4,
   "id": "643ce331",
   "metadata": {},
   "outputs": [
    {
     "name": "stdout",
     "output_type": "stream",
     "text": [
      "Looking in indexes: https://pypi.org/simple, https://pypi.ngc.nvidia.com\n",
      "Requirement already satisfied: numpy in c:\\users\\fyzan\\miniconda3\\envs\\sts_env\\lib\\site-packages (2.2.6)\n"
     ]
    }
   ],
   "source": [
    "!pip install numpy"
   ]
  },
  {
   "cell_type": "code",
   "execution_count": 5,
   "id": "9e3aa613",
   "metadata": {},
   "outputs": [],
   "source": [
    "# importing numpy library as np\n",
    "import numpy as np"
   ]
  },
  {
   "cell_type": "code",
   "execution_count": 16,
   "id": "c1983fee",
   "metadata": {},
   "outputs": [
    {
     "name": "stdout",
     "output_type": "stream",
     "text": [
      "[1 2 3 4 5 6]\n",
      "(6,)\n"
     ]
    }
   ],
   "source": [
    "# Creating 1D Array from a list\n",
    "list_1 = [1, 2, 3, 4, 5, 6]\n",
    "array_1d = np.array(list_1)\n",
    "print(array_1d)\n",
    "print(array_1d.shape)"
   ]
  },
  {
   "cell_type": "code",
   "execution_count": 17,
   "id": "c2a67820",
   "metadata": {},
   "outputs": [
    {
     "name": "stdout",
     "output_type": "stream",
     "text": [
      "[[ 1  2  3  4  5  6]\n",
      " [ 8  9 10 11 12 13]]\n",
      "(2, 6)\n"
     ]
    }
   ],
   "source": [
    "# Creating 2d array from two lists\n",
    "list_2 = [8, 9, 10, 11, 12, 13]\n",
    "array_2d = np.array([list_1, list_2])\n",
    "print(array_2d)\n",
    "print(array_2d.shape)  # (rows, columns)"
   ]
  },
  {
   "cell_type": "code",
   "execution_count": 20,
   "id": "538e827a",
   "metadata": {},
   "outputs": [
    {
     "name": "stdout",
     "output_type": "stream",
     "text": [
      "[[ 1  2  3]\n",
      " [ 4  5  6]\n",
      " [ 8  9 10]\n",
      " [11 12 13]]\n"
     ]
    }
   ],
   "source": [
    "# Reshape the array_2d from (2,6) to (4,3)\n",
    "array_4d = array_2d.reshape(4,3)\n",
    "print(array_4d)"
   ]
  },
  {
   "cell_type": "code",
   "execution_count": 21,
   "id": "7893fd68",
   "metadata": {},
   "outputs": [
    {
     "name": "stdout",
     "output_type": "stream",
     "text": [
      "[11 13 15 17 19 21 23 25 27 29 31]\n",
      "(11,)\n"
     ]
    }
   ],
   "source": [
    "array_6 = np.arange(11, 33, 2)\n",
    "print(array_6)\n",
    "print(array_6.shape)"
   ]
  },
  {
   "cell_type": "code",
   "execution_count": 25,
   "id": "bd8f28e7",
   "metadata": {},
   "outputs": [
    {
     "name": "stdout",
     "output_type": "stream",
     "text": [
      "[[0. 0. 0.]\n",
      " [0. 0. 0.]\n",
      " [0. 0. 0.]\n",
      " [0. 0. 0.]]\n",
      "(4, 3)\n"
     ]
    }
   ],
   "source": [
    "array_7 = np.zeros((4,3))\n",
    "print(array_7)\n",
    "print(array_7.shape)"
   ]
  },
  {
   "cell_type": "code",
   "execution_count": null,
   "id": "8e9016ed",
   "metadata": {},
   "outputs": [],
   "source": []
  }
 ],
 "metadata": {
  "kernelspec": {
   "display_name": "sts_env",
   "language": "python",
   "name": "python3"
  },
  "language_info": {
   "codemirror_mode": {
    "name": "ipython",
    "version": 3
   },
   "file_extension": ".py",
   "mimetype": "text/x-python",
   "name": "python",
   "nbconvert_exporter": "python",
   "pygments_lexer": "ipython3",
   "version": "3.10.18"
  }
 },
 "nbformat": 4,
 "nbformat_minor": 5
}
