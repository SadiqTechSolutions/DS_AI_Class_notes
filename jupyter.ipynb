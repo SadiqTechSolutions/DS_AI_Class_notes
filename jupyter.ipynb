{
 "cells": [
  {
   "cell_type": "markdown",
   "id": "777cffcd-3f5c-4946-960b-588a8560aa4a",
   "metadata": {},
   "source": [
    "# Today we will learn to Jupyter Lab"
   ]
  },
  {
   "cell_type": "markdown",
   "id": "6f96df24-5d8a-4269-9943-d875fadd8baf",
   "metadata": {},
   "source": [
    "### TWe are discussing about jupyter shortcuts"
   ]
  },
  {
   "cell_type": "code",
   "execution_count": 11,
   "id": "6218cf25-9982-4719-849e-2bf4c197e13a",
   "metadata": {},
   "outputs": [
    {
     "name": "stdout",
     "output_type": "stream",
     "text": [
      "Helloooo\n"
     ]
    }
   ],
   "source": [
    "print(\"Helloooo\")"
   ]
  },
  {
   "cell_type": "code",
   "execution_count": 1,
   "id": "c45ab327-6bf7-48ef-8563-cb231e865ae6",
   "metadata": {},
   "outputs": [
    {
     "name": "stdout",
     "output_type": "stream",
     "text": [
      "Original Image (pixel values):\n",
      "[[152 145  31  72 124]\n",
      " [ 63  82 212  34  40]\n",
      " [ 81  91  98 213  78]\n",
      " [ 39 109   4 158  15]\n",
      " [ 27 243 159  11 248]]\n",
      "\n",
      "Mask (True where pixels are bright):\n",
      "[[ True False False False False]\n",
      " [False False  True False False]\n",
      " [False False False  True False]\n",
      " [False False False  True False]\n",
      " [False  True  True False  True]]\n",
      "\n",
      "Brightened Image (values > 150 increased by 50):\n",
      "[[202 145  31  72 124]\n",
      " [ 63  82 262  34  40]\n",
      " [ 81  91  98 263  78]\n",
      " [ 39 109   4 208  15]\n",
      " [ 27 293 209  11 298]]\n"
     ]
    }
   ],
   "source": [
    "import numpy as np\n",
    "\n",
    "# Create a 5x5 \"image\" of random integers from 0 to 255\n",
    "image = np.random.randint(0, 256, size=(5, 5))\n",
    "print(\"Original Image (pixel values):\")\n",
    "print(image)\n",
    "\n",
    "# Create a boolean mask for all pixels with brightness > 150\n",
    "bright_pixels_mask = image > 150\n",
    "print(\"\\nMask (True where pixels are bright):\")\n",
    "print(bright_pixels_mask)\n",
    "\n",
    "# Use the mask to add 50 brightness points to only the bright pixels\n",
    "# This is a powerful one-liner!\n",
    "image[bright_pixels_mask] += 50\n",
    "\n",
    "print(\"\\nBrightened Image (values > 150 increased by 50):\")\n",
    "print(image)"
   ]
  },
  {
   "cell_type": "code",
   "execution_count": 2,
   "id": "35f640a3",
   "metadata": {},
   "outputs": [],
   "source": [
    "np.save('test1.npy', image)"
   ]
  },
  {
   "cell_type": "code",
   "execution_count": 4,
   "id": "36de0997",
   "metadata": {},
   "outputs": [
    {
     "name": "stdout",
     "output_type": "stream",
     "text": [
      "Original Image (pixel values):\n",
      "[[ 79  86  22 201 127]\n",
      " [195  19 129 233 168]\n",
      " [ 61  38  46 106  86]\n",
      " [ 84 218 240  10 201]\n",
      " [196 127  39 103 181]]\n",
      "\n",
      "Mask (True where pixels are bright):\n",
      "[[False False False  True False]\n",
      " [ True False False  True  True]\n",
      " [False False False False False]\n",
      " [False  True  True False  True]\n",
      " [ True False False False  True]]\n",
      "Over mask matrix: [[False False False False False]\n",
      " [False False False  True False]\n",
      " [False False False False False]\n",
      " [False  True  True False False]\n",
      " [False False False False False]]\n",
      "\n",
      "Brightened Image (values > 150 increased by 50, constrained to 0-255 with masks):\n",
      "[[ 79  86  22 251 127]\n",
      " [245  19 129 255 218]\n",
      " [ 61  38  46 106  86]\n",
      " [ 84 255 255  10 251]\n",
      " [246 127  39 103 231]]\n"
     ]
    }
   ],
   "source": [
    "import numpy as np\n",
    "\n",
    "# Create a 5x5 \"image\" of random integers from 0 to 255\n",
    "image = np.random.randint(0, 256, size=(5, 5))\n",
    "print(\"Original Image (pixel values):\")\n",
    "print(image)\n",
    "\n",
    "# Create a boolean mask for all pixels with brightness > 150\n",
    "bright_pixels_mask = image > 150\n",
    "print(\"\\nMask (True where pixels are bright):\")\n",
    "print(bright_pixels_mask)\n",
    "\n",
    "# Use the mask to add 50 brightness points to only the bright pixels\n",
    "image[bright_pixels_mask] += 50\n",
    "\n",
    "# Create masks for values outside the valid range\n",
    "over_mask = image > 255  # Values that exceed 255\n",
    "under_mask = image < 0   # Values that go below 0\n",
    "\n",
    "print(f\"Over mask matrix: {over_mask}\")\n",
    "# Use masks to set values to the valid range\n",
    "image[over_mask] = 255\n",
    "image[under_mask] = 0\n",
    "\n",
    "print(\"\\nBrightened Image (values > 150 increased by 50, constrained to 0-255 with masks):\")\n",
    "print(image)"
   ]
  },
  {
   "cell_type": "code",
   "execution_count": null,
   "id": "48b3909c",
   "metadata": {},
   "outputs": [],
   "source": []
  }
 ],
 "metadata": {
  "kernelspec": {
   "display_name": "sts_env",
   "language": "python",
   "name": "python3"
  },
  "language_info": {
   "codemirror_mode": {
    "name": "ipython",
    "version": 3
   },
   "file_extension": ".py",
   "mimetype": "text/x-python",
   "name": "python",
   "nbconvert_exporter": "python",
   "pygments_lexer": "ipython3",
   "version": "3.10.18"
  }
 },
 "nbformat": 4,
 "nbformat_minor": 5
}
