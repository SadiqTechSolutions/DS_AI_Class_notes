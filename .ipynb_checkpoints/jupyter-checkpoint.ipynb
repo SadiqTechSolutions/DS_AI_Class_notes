{
 "cells": [
  {
   "cell_type": "markdown",
   "id": "777cffcd-3f5c-4946-960b-588a8560aa4a",
   "metadata": {},
   "source": [
    "# Today we will learn to Jupyter Lab"
   ]
  },
  {
   "cell_type": "markdown",
   "id": "6f96df24-5d8a-4269-9943-d875fadd8baf",
   "metadata": {},
   "source": [
    "### TWe are discussing about jupyter shortcuts"
   ]
  },
  {
   "cell_type": "code",
   "execution_count": 10,
   "id": "6218cf25-9982-4719-849e-2bf4c197e13a",
   "metadata": {},
   "outputs": [
    {
     "name": "stdout",
     "output_type": "stream",
     "text": [
      "Helloooo\n"
     ]
    }
   ],
   "source": [
    "print(\"Helloooo\")"
   ]
  }
 ],
 "metadata": {
  "kernelspec": {
   "display_name": "Python 3 (ipykernel)",
   "language": "python",
   "name": "python3"
  },
  "language_info": {
   "codemirror_mode": {
    "name": "ipython",
    "version": 3
   },
   "file_extension": ".py",
   "mimetype": "text/x-python",
   "name": "python",
   "nbconvert_exporter": "python",
   "pygments_lexer": "ipython3",
   "version": "3.10.18"
  }
 },
 "nbformat": 4,
 "nbformat_minor": 5
}
